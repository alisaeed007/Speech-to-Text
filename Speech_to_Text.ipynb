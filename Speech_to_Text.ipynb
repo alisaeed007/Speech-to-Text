{
  "nbformat": 4,
  "nbformat_minor": 0,
  "metadata": {
    "colab": {
      "provenance": []
    },
    "kernelspec": {
      "name": "python3",
      "display_name": "Python 3"
    },
    "language_info": {
      "name": "python"
    }
  },
  "cells": [
    {
      "cell_type": "code",
      "source": [
        "from google.colab import drive\n",
        "drive.mount('/content/drive')"
      ],
      "metadata": {
        "colab": {
          "base_uri": "https://localhost:8080/"
        },
        "id": "9_F5GTZSDXNH",
        "outputId": "30457307-1f1d-4415-8712-b9141b7dc1c0"
      },
      "execution_count": 4,
      "outputs": [
        {
          "output_type": "stream",
          "name": "stdout",
          "text": [
            "Mounted at /content/drive\n"
          ]
        }
      ]
    },
    {
      "cell_type": "code",
      "execution_count": 9,
      "metadata": {
        "colab": {
          "base_uri": "https://localhost:8080/"
        },
        "id": "9-Eq3zunBNQs",
        "outputId": "b7d9fdb4-e015-4de2-b147-0757aaefed11"
      },
      "outputs": [
        {
          "output_type": "stream",
          "name": "stdout",
          "text": [
            "Looking in indexes: https://pypi.org/simple, https://us-python.pkg.dev/colab-wheels/public/simple/\n",
            "Requirement already satisfied: SpeechRecognition in /usr/local/lib/python3.10/dist-packages (3.10.0)\n",
            "Requirement already satisfied: requests>=2.26.0 in /usr/local/lib/python3.10/dist-packages (from SpeechRecognition) (2.27.1)\n",
            "Requirement already satisfied: urllib3<1.27,>=1.21.1 in /usr/local/lib/python3.10/dist-packages (from requests>=2.26.0->SpeechRecognition) (1.26.15)\n",
            "Requirement already satisfied: certifi>=2017.4.17 in /usr/local/lib/python3.10/dist-packages (from requests>=2.26.0->SpeechRecognition) (2022.12.7)\n",
            "Requirement already satisfied: charset-normalizer~=2.0.0 in /usr/local/lib/python3.10/dist-packages (from requests>=2.26.0->SpeechRecognition) (2.0.12)\n",
            "Requirement already satisfied: idna<4,>=2.5 in /usr/local/lib/python3.10/dist-packages (from requests>=2.26.0->SpeechRecognition) (3.4)\n",
            "Looking in indexes: https://pypi.org/simple, https://us-python.pkg.dev/colab-wheels/public/simple/\n",
            "Requirement already satisfied: pydub in /usr/local/lib/python3.10/dist-packages (0.25.1)\n",
            "Enter the file name example\n",
            "Transcription: sir are you fine\n"
          ]
        }
      ],
      "source": [
        "!pip install SpeechRecognition\n",
        "!pip install pydub\n",
        "import speech_recognition as sr\n",
        "from pydub import AudioSegment\n",
        "import os\n",
        "\n",
        "# Create a recognizer object\n",
        "recognizer = sr.Recognizer()\n",
        "\n",
        "# Prompt the user to enter the file name\n",
        "file_name = input(\"Enter the file name \")\n",
        "\n",
        "# Construct the full file path\n",
        "audio_file = \"/content/drive/MyDrive/abc/\" + file_name + \".mp3\"\n",
        "\n",
        "# Check if the file exists\n",
        "if not os.path.isfile(audio_file):\n",
        "    print(\"File does not exist.\")\n",
        "else:\n",
        "    # Load the audio file using pydub\n",
        "    audio = AudioSegment.from_file(audio_file, format=\"mp3\")\n",
        "\n",
        "    # Export the audio as WAV\n",
        "    wav_file = \"/content/drive/MyDrive/abc/\" + file_name + \".wav\"\n",
        "    audio.export(wav_file, format=\"wav\")\n",
        "\n",
        "    # Load the WAV audio file\n",
        "    with sr.AudioFile(wav_file) as source:\n",
        "        audio = recognizer.record(source)\n",
        "\n",
        "    # Perform speech recognition\n",
        "    try:\n",
        "        text = recognizer.recognize_google(audio)\n",
        "        print(\"Transcription:\", text)\n",
        "    except sr.UnknownValueError:\n",
        "        print(\"Unable to recognize speech.\")\n",
        "\n"
      ]
    }
  ]
}